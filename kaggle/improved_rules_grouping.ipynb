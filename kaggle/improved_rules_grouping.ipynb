{
 "cells": [
  {
   "cell_type": "code",
   "execution_count": 11,
   "id": "initial_id",
   "metadata": {
    "ExecuteTime": {
     "end_time": "2023-10-18T23:28:29.476791Z",
     "start_time": "2023-10-18T23:28:23.767298Z"
    },
    "collapsed": true
   },
   "outputs": [
    {
     "data": {
      "text/plain": "             Time  Vehicle Speed  Engine Load  Total Acceleration  Engine RPM  \\\ncount 3228015.000    3228015.000  3228015.000         3228015.000 3228015.000   \nmean     1342.519         46.641       10.357               0.272    2039.619   \nstd       901.246         24.403        8.100               0.694     553.765   \nmin         7.677          4.773        2.000              -5.101     800.020   \n25%       585.950         28.186        4.122              -0.148    1674.200   \n50%      1238.500         42.264        8.054               0.223    1987.300   \n75%      1886.900         64.890       13.584               0.626    2292.400   \nmax      4287.900        115.150       69.655               4.523    5680.800   \n\n            Pitch  Lateral Acceleration  Passenger Count    Car Load  \\\ncount 3228015.000           3228015.000      3228015.000 3228015.000   \nmean        1.244                -0.021            0.658       4.639   \nstd         1.896                 0.521            0.859       2.165   \nmin       -10.549                -5.963            0.000       3.000   \n25%         0.604                -0.111            0.000       3.000   \n50%         1.307                -0.006            0.000       3.000   \n75%         1.970                 0.085            1.000       7.000   \nmax        12.277                 5.777            4.000       8.000   \n\n        AC Status  Window Opening  Radio Volume  Rain Intensity  Visibility  \\\ncount 3228015.000     3228015.000   3228015.000     3228015.000 3228015.000   \nmean        0.086           0.593         3.469           0.152       9.676   \nstd         0.372           1.309         2.105           0.532       0.678   \nmin         0.000           0.000         0.000           0.000       7.000   \n25%         0.000           0.000         2.000           0.000      10.000   \n50%         0.000           0.000         4.000           0.000      10.000   \n75%         0.000           0.000         5.000           0.000      10.000   \nmax         4.000           6.000         8.000           3.000      10.000   \n\n       Driver Wellbeing  Driver Rush       SHIFT  \ncount       3228015.000  3228015.000 3228015.000  \nmean              6.510        3.016       3.412  \nstd               1.058        1.083       1.256  \nmin               4.000        0.000       1.000  \n25%               6.000        3.000       2.000  \n50%               7.000        3.000       3.000  \n75%               7.000        3.000       5.000  \nmax               8.000        5.000       5.000  ",
      "text/html": "<div>\n<style scoped>\n    .dataframe tbody tr th:only-of-type {\n        vertical-align: middle;\n    }\n\n    .dataframe tbody tr th {\n        vertical-align: top;\n    }\n\n    .dataframe thead th {\n        text-align: right;\n    }\n</style>\n<table border=\"1\" class=\"dataframe\">\n  <thead>\n    <tr style=\"text-align: right;\">\n      <th></th>\n      <th>Time</th>\n      <th>Vehicle Speed</th>\n      <th>Engine Load</th>\n      <th>Total Acceleration</th>\n      <th>Engine RPM</th>\n      <th>Pitch</th>\n      <th>Lateral Acceleration</th>\n      <th>Passenger Count</th>\n      <th>Car Load</th>\n      <th>AC Status</th>\n      <th>Window Opening</th>\n      <th>Radio Volume</th>\n      <th>Rain Intensity</th>\n      <th>Visibility</th>\n      <th>Driver Wellbeing</th>\n      <th>Driver Rush</th>\n      <th>SHIFT</th>\n    </tr>\n  </thead>\n  <tbody>\n    <tr>\n      <th>count</th>\n      <td>3228015.000</td>\n      <td>3228015.000</td>\n      <td>3228015.000</td>\n      <td>3228015.000</td>\n      <td>3228015.000</td>\n      <td>3228015.000</td>\n      <td>3228015.000</td>\n      <td>3228015.000</td>\n      <td>3228015.000</td>\n      <td>3228015.000</td>\n      <td>3228015.000</td>\n      <td>3228015.000</td>\n      <td>3228015.000</td>\n      <td>3228015.000</td>\n      <td>3228015.000</td>\n      <td>3228015.000</td>\n      <td>3228015.000</td>\n    </tr>\n    <tr>\n      <th>mean</th>\n      <td>1342.519</td>\n      <td>46.641</td>\n      <td>10.357</td>\n      <td>0.272</td>\n      <td>2039.619</td>\n      <td>1.244</td>\n      <td>-0.021</td>\n      <td>0.658</td>\n      <td>4.639</td>\n      <td>0.086</td>\n      <td>0.593</td>\n      <td>3.469</td>\n      <td>0.152</td>\n      <td>9.676</td>\n      <td>6.510</td>\n      <td>3.016</td>\n      <td>3.412</td>\n    </tr>\n    <tr>\n      <th>std</th>\n      <td>901.246</td>\n      <td>24.403</td>\n      <td>8.100</td>\n      <td>0.694</td>\n      <td>553.765</td>\n      <td>1.896</td>\n      <td>0.521</td>\n      <td>0.859</td>\n      <td>2.165</td>\n      <td>0.372</td>\n      <td>1.309</td>\n      <td>2.105</td>\n      <td>0.532</td>\n      <td>0.678</td>\n      <td>1.058</td>\n      <td>1.083</td>\n      <td>1.256</td>\n    </tr>\n    <tr>\n      <th>min</th>\n      <td>7.677</td>\n      <td>4.773</td>\n      <td>2.000</td>\n      <td>-5.101</td>\n      <td>800.020</td>\n      <td>-10.549</td>\n      <td>-5.963</td>\n      <td>0.000</td>\n      <td>3.000</td>\n      <td>0.000</td>\n      <td>0.000</td>\n      <td>0.000</td>\n      <td>0.000</td>\n      <td>7.000</td>\n      <td>4.000</td>\n      <td>0.000</td>\n      <td>1.000</td>\n    </tr>\n    <tr>\n      <th>25%</th>\n      <td>585.950</td>\n      <td>28.186</td>\n      <td>4.122</td>\n      <td>-0.148</td>\n      <td>1674.200</td>\n      <td>0.604</td>\n      <td>-0.111</td>\n      <td>0.000</td>\n      <td>3.000</td>\n      <td>0.000</td>\n      <td>0.000</td>\n      <td>2.000</td>\n      <td>0.000</td>\n      <td>10.000</td>\n      <td>6.000</td>\n      <td>3.000</td>\n      <td>2.000</td>\n    </tr>\n    <tr>\n      <th>50%</th>\n      <td>1238.500</td>\n      <td>42.264</td>\n      <td>8.054</td>\n      <td>0.223</td>\n      <td>1987.300</td>\n      <td>1.307</td>\n      <td>-0.006</td>\n      <td>0.000</td>\n      <td>3.000</td>\n      <td>0.000</td>\n      <td>0.000</td>\n      <td>4.000</td>\n      <td>0.000</td>\n      <td>10.000</td>\n      <td>7.000</td>\n      <td>3.000</td>\n      <td>3.000</td>\n    </tr>\n    <tr>\n      <th>75%</th>\n      <td>1886.900</td>\n      <td>64.890</td>\n      <td>13.584</td>\n      <td>0.626</td>\n      <td>2292.400</td>\n      <td>1.970</td>\n      <td>0.085</td>\n      <td>1.000</td>\n      <td>7.000</td>\n      <td>0.000</td>\n      <td>0.000</td>\n      <td>5.000</td>\n      <td>0.000</td>\n      <td>10.000</td>\n      <td>7.000</td>\n      <td>3.000</td>\n      <td>5.000</td>\n    </tr>\n    <tr>\n      <th>max</th>\n      <td>4287.900</td>\n      <td>115.150</td>\n      <td>69.655</td>\n      <td>4.523</td>\n      <td>5680.800</td>\n      <td>12.277</td>\n      <td>5.777</td>\n      <td>4.000</td>\n      <td>8.000</td>\n      <td>4.000</td>\n      <td>6.000</td>\n      <td>8.000</td>\n      <td>3.000</td>\n      <td>10.000</td>\n      <td>8.000</td>\n      <td>5.000</td>\n      <td>5.000</td>\n    </tr>\n  </tbody>\n</table>\n</div>"
     },
     "execution_count": 11,
     "metadata": {},
     "output_type": "execute_result"
    }
   ],
   "source": [
    "import numpy as np # linear algebra\n",
    "import pandas as pd # data processing, CSV file I/O (e.g. pd.read_csv)\n",
    "\n",
    "# Input data files are available in the \"../input/\" directory.\n",
    "# For example, running this (by clicking run or pressing Shift+Enter) will list all files under the input directory\n",
    "\n",
    "import os\n",
    "\n",
    "df=pd.DataFrame()\n",
    "for no in range(10,38):\n",
    "    temp=pd.read_csv(\"Processed Data/fileID\"+str(no)+\"_ProcessedTripData.csv\",header= None)\n",
    "    #print(temp)  \n",
    "    df=pd.concat([df,temp])\n",
    "\n",
    "df.columns=['Time','Vehicle Speed','SHIFT','Engine Load','Total Acceleration','Engine RPM','Pitch','Lateral Acceleration','Passenger Count','Car Load','AC Status','Window Opening','Radio Volume','Rain Intensity','Visibility','Driver Wellbeing','Driver Rush']\n",
    "\n",
    "# Multiply the 'Vehicle Speed' by 3.6 to get km/h\n",
    "df['Vehicle Speed'] = df['Vehicle Speed'] * 3.6\n",
    "\n",
    "newdf = df[df.SHIFT != 0]\n",
    "newdf = newdf.reset_index(drop=True)\n",
    "\n",
    "# Column SHIFT moved to the last position\n",
    "column_to_move = 'SHIFT'\n",
    "columns = [col for col in newdf.columns if col != column_to_move]\n",
    "newdf = newdf[columns + [column_to_move]]\n",
    "\n",
    "df = newdf\n",
    "\n",
    "df.dropna(inplace=True)\n",
    "\n",
    "# Set the display format to show real numbers, not scientific notation\n",
    "pd.set_option('display.float_format', lambda x: '%.3f' % x)\n",
    "\n",
    "df.describe()"
   ]
  },
  {
   "cell_type": "code",
   "execution_count": 12,
   "id": "e0238d201444952b",
   "metadata": {
    "ExecuteTime": {
     "end_time": "2023-10-18T23:28:29.486450Z",
     "start_time": "2023-10-18T23:28:29.479365Z"
    },
    "collapsed": false
   },
   "outputs": [
    {
     "data": {
      "text/plain": "    Time  Vehicle Speed  Engine Load  Total Acceleration  Engine RPM  Pitch  \\\n0 60.569          9.987        7.843              -0.173    1306.500 -1.625   \n1 60.579          9.965        7.826              -0.195    1308.800 -1.642   \n2 60.589          9.940        7.809              -0.214    1311.100 -1.659   \n3 60.599          9.910        7.791              -0.231    1313.600 -1.676   \n4 60.608          9.893        7.774              -0.245    1316.100 -1.693   \n\n   Lateral Acceleration  Passenger Count  Car Load  AC Status  Window Opening  \\\n0                 1.599                0         3          0               2   \n1                 1.599                0         3          0               2   \n2                 1.595                0         3          0               2   \n3                 1.568                0         3          0               2   \n4                 1.565                0         3          0               2   \n\n   Radio Volume  Rain Intensity  Visibility  Driver Wellbeing  Driver Rush  \\\n0             6               0           9                 5            3   \n1             6               0           9                 5            3   \n2             6               0           9                 5            3   \n3             6               0           9                 5            3   \n4             6               0           9                 5            3   \n\n   SHIFT  \n0      1  \n1      1  \n2      1  \n3      1  \n4      1  ",
      "text/html": "<div>\n<style scoped>\n    .dataframe tbody tr th:only-of-type {\n        vertical-align: middle;\n    }\n\n    .dataframe tbody tr th {\n        vertical-align: top;\n    }\n\n    .dataframe thead th {\n        text-align: right;\n    }\n</style>\n<table border=\"1\" class=\"dataframe\">\n  <thead>\n    <tr style=\"text-align: right;\">\n      <th></th>\n      <th>Time</th>\n      <th>Vehicle Speed</th>\n      <th>Engine Load</th>\n      <th>Total Acceleration</th>\n      <th>Engine RPM</th>\n      <th>Pitch</th>\n      <th>Lateral Acceleration</th>\n      <th>Passenger Count</th>\n      <th>Car Load</th>\n      <th>AC Status</th>\n      <th>Window Opening</th>\n      <th>Radio Volume</th>\n      <th>Rain Intensity</th>\n      <th>Visibility</th>\n      <th>Driver Wellbeing</th>\n      <th>Driver Rush</th>\n      <th>SHIFT</th>\n    </tr>\n  </thead>\n  <tbody>\n    <tr>\n      <th>0</th>\n      <td>60.569</td>\n      <td>9.987</td>\n      <td>7.843</td>\n      <td>-0.173</td>\n      <td>1306.500</td>\n      <td>-1.625</td>\n      <td>1.599</td>\n      <td>0</td>\n      <td>3</td>\n      <td>0</td>\n      <td>2</td>\n      <td>6</td>\n      <td>0</td>\n      <td>9</td>\n      <td>5</td>\n      <td>3</td>\n      <td>1</td>\n    </tr>\n    <tr>\n      <th>1</th>\n      <td>60.579</td>\n      <td>9.965</td>\n      <td>7.826</td>\n      <td>-0.195</td>\n      <td>1308.800</td>\n      <td>-1.642</td>\n      <td>1.599</td>\n      <td>0</td>\n      <td>3</td>\n      <td>0</td>\n      <td>2</td>\n      <td>6</td>\n      <td>0</td>\n      <td>9</td>\n      <td>5</td>\n      <td>3</td>\n      <td>1</td>\n    </tr>\n    <tr>\n      <th>2</th>\n      <td>60.589</td>\n      <td>9.940</td>\n      <td>7.809</td>\n      <td>-0.214</td>\n      <td>1311.100</td>\n      <td>-1.659</td>\n      <td>1.595</td>\n      <td>0</td>\n      <td>3</td>\n      <td>0</td>\n      <td>2</td>\n      <td>6</td>\n      <td>0</td>\n      <td>9</td>\n      <td>5</td>\n      <td>3</td>\n      <td>1</td>\n    </tr>\n    <tr>\n      <th>3</th>\n      <td>60.599</td>\n      <td>9.910</td>\n      <td>7.791</td>\n      <td>-0.231</td>\n      <td>1313.600</td>\n      <td>-1.676</td>\n      <td>1.568</td>\n      <td>0</td>\n      <td>3</td>\n      <td>0</td>\n      <td>2</td>\n      <td>6</td>\n      <td>0</td>\n      <td>9</td>\n      <td>5</td>\n      <td>3</td>\n      <td>1</td>\n    </tr>\n    <tr>\n      <th>4</th>\n      <td>60.608</td>\n      <td>9.893</td>\n      <td>7.774</td>\n      <td>-0.245</td>\n      <td>1316.100</td>\n      <td>-1.693</td>\n      <td>1.565</td>\n      <td>0</td>\n      <td>3</td>\n      <td>0</td>\n      <td>2</td>\n      <td>6</td>\n      <td>0</td>\n      <td>9</td>\n      <td>5</td>\n      <td>3</td>\n      <td>1</td>\n    </tr>\n  </tbody>\n</table>\n</div>"
     },
     "execution_count": 12,
     "metadata": {},
     "output_type": "execute_result"
    }
   ],
   "source": [
    "df.head()"
   ]
  },
  {
   "cell_type": "code",
   "execution_count": null,
   "id": "b83787ff2b31a55d",
   "metadata": {
    "ExecuteTime": {
     "end_time": "2023-10-18T23:28:48.828242Z",
     "start_time": "2023-10-18T23:28:29.481509Z"
    },
    "collapsed": false,
    "pycharm": {
     "is_executing": true
    }
   },
   "outputs": [],
   "source": [
    "#CART MODEL without any knowledge\n",
    "#tree in PNG\n",
    "# No GridSearchCV take into consideration\n",
    "\n",
    "from sklearn.model_selection import train_test_split\n",
    "from sklearn.tree import DecisionTreeClassifier, export_graphviz\n",
    "import graphviz\n",
    "\n",
    "X = df.drop(columns=['SHIFT'])\n",
    "y = df['SHIFT']\n",
    "\n",
    "x_train, x_test, y_train, y_test = train_test_split(X, y, test_size=0.3, random_state=42)\n",
    "\n",
    "# Train a Decision Tree Classifier\n",
    "clf = DecisionTreeClassifier(random_state=42)\n",
    "clf.fit(x_train, y_train)\n",
    "\n",
    "accuracy=clf.score(x_test, y_test)\n",
    "print(\"Model Accuracy : \"+str(accuracy*100)+\" %\")\n",
    "\n",
    "# Visualize the decision tree\n",
    "dot_data = export_graphviz(clf, out_file=None,\n",
    "                           feature_names=['Time','Vehicle Speed','Engine Load','Total Acceleration','Engine RPM','Pitch','Lateral Acceleration','Passenger Count','Car Load','AC Status','Window Opening','Radio Volume','Rain Intensity','Visibility','Driver Wellbeing','Driver Rush'],\n",
    "                           class_names=[str(i) for i in y.unique()],\n",
    "                           filled=True, rounded=True, special_characters=True)\n",
    "graph = graphviz.Source(dot_data, format='png', engine='dot')\n",
    "graph.render(\"clustering_decision_tree\", view=True, cleanup=True)\n",
    "\n"
   ]
  },
  {
   "cell_type": "code",
   "execution_count": null,
   "id": "c3b350a579402147",
   "metadata": {
    "ExecuteTime": {
     "end_time": "2023-10-18T23:28:52.178508Z",
     "start_time": "2023-10-18T23:28:48.807571Z"
    },
    "collapsed": false,
    "pycharm": {
     "is_executing": true
    }
   },
   "outputs": [],
   "source": [
    "#CART MODEL without any knowledge\n",
    "#tree printed (not readable)\n",
    "# No GridSearchCV take into consideration\n",
    "\n",
    "import matplotlib.pyplot as plt\n",
    "from sklearn.tree import plot_tree\n",
    "X = df.drop(columns=['SHIFT'])\n",
    "y = df['SHIFT']\n",
    "\n",
    "x_train, x_test, y_train, y_test = train_test_split(X, y, test_size=0.3, random_state=42)\n",
    "\n",
    "# Train a Decision Tree Classifier\n",
    "clf = DecisionTreeClassifier(random_state=42)\n",
    "clf.fit(x_train, y_train)\n",
    "\n",
    "# Plot the decision tree\n",
    "plt.figure(figsize=(17, 12))\n",
    "plot_tree(clf, filled=True, feature_names=X.columns, class_names=[str(i) for i in range(1, 6)], fontsize=12)\n",
    "plt.title(\"Decision Tree for Multiple Features\", fontsize=16)\n",
    "plt.show()"
   ]
  },
  {
   "cell_type": "code",
   "execution_count": null,
   "id": "8e6afa82d6704c06",
   "metadata": {
    "ExecuteTime": {
     "end_time": "2023-10-18T23:29:08.623404Z",
     "start_time": "2023-10-18T23:28:52.178153Z"
    },
    "collapsed": false,
    "pycharm": {
     "is_executing": true
    }
   },
   "outputs": [],
   "source": [
    "# Code to generate Confusion Matrix\n",
    "# ALL FEATURES\n",
    "# No GridSearchCV take into consideration\n",
    "\n",
    "import pandas as pd\n",
    "import seaborn as sns\n",
    "from sklearn.model_selection import train_test_split\n",
    "from sklearn.tree import DecisionTreeClassifier\n",
    "from sklearn.metrics import confusion_matrix\n",
    "import matplotlib.pyplot as plt\n",
    "\n",
    "\n",
    "# Train a Decision Tree Classifier\n",
    "clf = DecisionTreeClassifier(random_state=42)\n",
    "clf.fit(x_train, y_train)\n",
    "\n",
    "# Predict clusters for the test data\n",
    "predicted_clusters = clf.predict(x_test)\n",
    "\n",
    "conf_matrix = confusion_matrix(y_test, predicted_clusters)\n",
    "\n",
    "plt.figure(figsize=(8, 6))\n",
    "sns.heatmap(conf_matrix, annot=True, fmt='d', cmap='Blues', xticklabels=['SHIFT'], yticklabels=['SHIFT'])\n",
    "plt.xlabel('Predicted SHIFT')\n",
    "plt.ylabel('True SHIFT')\n",
    "plt.title('Confusion Matrix')\n",
    "plt.show()"
   ]
  },
  {
   "cell_type": "code",
   "execution_count": null,
   "id": "79c1f996bd984b96",
   "metadata": {
    "ExecuteTime": {
     "end_time": "2023-10-18T23:29:27.462729Z",
     "start_time": "2023-10-18T23:29:08.625012Z"
    },
    "collapsed": false,
    "pycharm": {
     "is_executing": true
    }
   },
   "outputs": [],
   "source": [
    "# Feature Importance\n",
    "# No GridSearchCV take into consideration\n",
    "from sklearn.tree import DecisionTreeClassifier\n",
    "import pandas as pd\n",
    "\n",
    "# Train a Decision Tree Classifier\n",
    "clf = DecisionTreeClassifier(random_state=42)\n",
    "clf.fit(X, y)\n",
    "\n",
    "# Get feature importance\n",
    "feature_importance = clf.feature_importances_\n",
    "feature_names = X.columns\n",
    "\n",
    "feature_importance_df = pd.DataFrame({'Feature': feature_names, 'Importance': feature_importance})\n",
    "\n",
    "print(feature_importance_df.sort_values(by='Importance', ascending=False))"
   ]
  },
  {
   "cell_type": "code",
   "execution_count": null,
   "id": "ff47da3091c774e0",
   "metadata": {
    "ExecuteTime": {
     "end_time": "2023-10-18T23:29:29.199299Z",
     "start_time": "2023-10-18T23:29:27.463691Z"
    },
    "collapsed": false,
    "pycharm": {
     "is_executing": true
    }
   },
   "outputs": [],
   "source": [
    "# Correlation Matrix\n",
    "# ALL FEATURES no seaborn graph\n",
    "# No GridSearchCV take into consideration\n",
    "\n",
    "correlation_matrix = df.corr()\n",
    "\n",
    "print(correlation_matrix)\n"
   ]
  },
  {
   "cell_type": "code",
   "execution_count": null,
   "id": "7a5bfa721afc6d71",
   "metadata": {
    "ExecuteTime": {
     "end_time": "2023-10-18T23:29:29.505104Z",
     "start_time": "2023-10-18T23:29:29.205883Z"
    },
    "collapsed": false,
    "pycharm": {
     "is_executing": true
    }
   },
   "outputs": [],
   "source": [
    "# Correlation Matrix\n",
    "# ALL FEATURES seaborn graph\n",
    "# No GridSearchCV take into consideration\n",
    "\n",
    "import seaborn as sns\n",
    "import matplotlib.pyplot as plt\n",
    "\n",
    "plt.figure(figsize=(12, 8))\n",
    "heat = sns.heatmap(correlation_matrix, annot=True, cmap='RdYlBu', fmt=\".2f\")\n",
    "plt.title(\"Correlation Matrix\")\n",
    "plt.show() "
   ]
  },
  {
   "cell_type": "code",
   "execution_count": null,
   "id": "4c2347c6ed065fbc",
   "metadata": {
    "ExecuteTime": {
     "end_time": "2023-10-18T23:29:29.734307Z",
     "start_time": "2023-10-18T23:29:29.508857Z"
    },
    "collapsed": false,
    "pycharm": {
     "is_executing": true
    }
   },
   "outputs": [],
   "source": [
    "# Correlation Matrix\n",
    "# ALL FEATURES with threshold > 0.50\n",
    "# No GridSearchCV take into consideration\n",
    "\n",
    "import seaborn as sns\n",
    "import matplotlib.pyplot as plt\n",
    "import pandas as pd\n",
    "import numpy as np\n",
    "\n",
    "threshold = 0.50\n",
    "filtered_data = np.where(correlation_matrix > threshold, correlation_matrix, np.nan)\n",
    "\n",
    "filtered_df = pd.DataFrame(filtered_data, index=correlation_matrix.index, columns=correlation_matrix.columns)\n",
    "\n",
    "plt.figure(figsize=(12, 8))\n",
    "heatmap = sns.heatmap(filtered_df, cmap='RdBu', annot=True, fmt=\".2f\", linewidths=.5, annot_kws={\"size\": 10})\n",
    "heatmap.set_xticklabels(heatmap.get_xticklabels(), rotation=45, horizontalalignment='right')\n",
    "plt.show()"
   ]
  },
  {
   "cell_type": "code",
   "execution_count": null,
   "id": "6279d1983a7e0a75",
   "metadata": {
    "ExecuteTime": {
     "end_time": "2023-10-18T23:29:40.155994Z",
     "start_time": "2023-10-18T23:29:29.736443Z"
    },
    "collapsed": false,
    "pycharm": {
     "is_executing": true
    }
   },
   "outputs": [],
   "source": [
    "# IF WE CHOOSE THE 5 MOST IMPORTANT FEATURES\n",
    "# Vehicle Speed, Engine RPM, Car Load, Total Acceleration, Pitch\n",
    "#CART MODEL with 5 MOST IMPORTANT FEATURES\n",
    "#tree in PNG\n",
    "# No GridSearchCV take into consideration\n",
    "\n",
    "from sklearn.model_selection import train_test_split\n",
    "from sklearn.tree import DecisionTreeClassifier, export_graphviz\n",
    "import graphviz\n",
    "\n",
    "# 5 MOST IMPORTANT FEATURES\n",
    "most_important_features_df = feature_importance_df[feature_importance_df['Importance'] > 0.001]\n",
    "only_most_important_features_df = most_important_features_df['Feature'].tolist()\n",
    "selected_df = X[only_most_important_features_df].copy()\n",
    "\n",
    "X_five = df[most_important_features_df['Feature']]\n",
    "y_five = df['SHIFT']\n",
    "\n",
    "x_train_five, x_test_five, y_train_five, y_test_five = train_test_split(X_five, y_five, test_size=0.3, random_state=42)\n",
    "\n",
    "# Train a Decision Tree Classifier\n",
    "clf = DecisionTreeClassifier(random_state=42)\n",
    "clf.fit(x_train_five, y_train_five)\n",
    "\n",
    "print(f\"Accuracy: {clf.score(x_test_five, y_test_five)}\")\n",
    "\n",
    "# Visualize the decision tree\n",
    "dot_data = export_graphviz(clf, out_file=None,\n",
    "                           feature_names=most_important_features_df['Feature'],\n",
    "                           class_names=[str(i) for i in y.unique()],\n",
    "                           filled=True, rounded=True, special_characters=True)\n",
    "graph = graphviz.Source(dot_data, format='png', engine='dot')\n",
    "graph.render(\"clustering_decision_tree\", view=True, cleanup=True)"
   ]
  },
  {
   "cell_type": "code",
   "execution_count": null,
   "id": "2cd278f120a26cb7",
   "metadata": {
    "ExecuteTime": {
     "end_time": "2023-10-18T23:29:48.581307Z",
     "start_time": "2023-10-18T23:29:40.152593Z"
    },
    "collapsed": false,
    "pycharm": {
     "is_executing": true
    }
   },
   "outputs": [],
   "source": [
    "# Code to generate Confusion Matrix\n",
    "# 5 MOST IMPORTANT FEATURES\n",
    "# Vehicle Speed, Engine RPM, Car Load, Total Acceleration, Pitch\n",
    "# No GridSearchCV take into consideration\n",
    "\n",
    "import seaborn as sns\n",
    "from sklearn.tree import DecisionTreeClassifier\n",
    "from sklearn.metrics import confusion_matrix\n",
    "import matplotlib.pyplot as plt\n",
    "\n",
    "\n",
    "# Train a Decision Tree Classifier\n",
    "clf = DecisionTreeClassifier(random_state=100)\n",
    "clf.fit(x_train_five, y_train_five)\n",
    "\n",
    "# Predict clusters for the test data\n",
    "predictions = clf.predict(x_test_five)\n",
    "\n",
    "conf_matrix = confusion_matrix(y_test_five, predictions)\n",
    "\n",
    "plt.figure(figsize=(8, 6))\n",
    "sns.heatmap(conf_matrix, annot=True, fmt='d', cmap='Blues', xticklabels=['SHIFT'], yticklabels=['SHIFT'])\n",
    "plt.xlabel('Predicted SHIFT')\n",
    "plt.ylabel('True SHIFT')\n",
    "plt.title('Confusion Matrix')\n",
    "plt.show()"
   ]
  },
  {
   "cell_type": "code",
   "execution_count": null,
   "id": "b477b72ad76c7c1a",
   "metadata": {
    "ExecuteTime": {
     "end_time": "2023-10-19T00:11:14.378757Z",
     "start_time": "2023-10-18T23:29:48.430280Z"
    },
    "collapsed": false,
    "pycharm": {
     "is_executing": true
    }
   },
   "outputs": [],
   "source": [
    "# Code to perform Grid Search Cross-Validation to find the best parameters\n",
    "# ALL FEATURES\n",
    "\n",
    "from sklearn.tree import DecisionTreeClassifier\n",
    "from sklearn.model_selection import train_test_split\n",
    "from sklearn.metrics import accuracy_score, classification_report\n",
    "from sklearn.model_selection import GridSearchCV\n",
    "from sklearn.model_selection import cross_val_score\n",
    "\n",
    "X = df[df.columns[:-1]]\n",
    "y = df.SHIFT\n",
    "\n",
    "# Split the data into training and testing sets\n",
    "X_train, X_test, y_train, y_test = train_test_split(X, y, train_size=0.8, test_size=0.2, random_state=42)\n",
    "\n",
    "# Define hyperparameters and values to search\n",
    "# This aims to find the best set of hyperparameters for your machine learning model.\n",
    "# Grid Search, which exhaustively evaluates all combinations of hyperparameters\n",
    "param_grid = {\n",
    "    'max_depth': [5, 7, 9],                  # Depth of the tree\n",
    "    'min_samples_split': [3, 7, 10],         # Minimum number of samples required to split an internal node\n",
    "    'min_samples_leaf': [1, 4, 6]            # Minimum number of samples required to be at a leaf node\n",
    "}\n",
    "\n",
    "# Initialize the Decision Tree Classifier\n",
    "clf = DecisionTreeClassifier(random_state=42)\n",
    "\n",
    "# Train the model on the training data\n",
    "clf.fit(X_train, y_train)\n",
    "\n",
    "# Predictions\n",
    "predictions = clf.predict(X_test)\n",
    "\n",
    "print(f\"Accuracy: {accuracy_score(y_test, predictions)}\")\n",
    "\n",
    "print(f\"Classification Report: {classification_report(y_test, predictions)}\")\n",
    "\n",
    "# Grid Search Cross-Validation to find the best parameters\n",
    "grid_search = GridSearchCV(estimator=clf, param_grid=param_grid, cv=5)\n",
    "grid_search.fit(X_train, y_train)\n",
    "\n",
    "# Get the best parameters found by Grid Search\n",
    "best_params = grid_search.best_params_\n",
    "print(\"Best Hyperparameters:\", best_params)\n",
    "\n",
    "# Train the model with the best hyperparameters\n",
    "best_clf = DecisionTreeClassifier(random_state=42, **best_params)\n",
    "best_clf.fit(X_train, y_train)\n",
    "\n",
    "# 5-fold cross-validation\n",
    "cv_scores = cross_val_score(best_clf, X, y, cv=5)\n",
    "print(\"Cross-Validation Scores:\", cv_scores)\n",
    "print(\"Mean CV Score:\", cv_scores.mean())\n"
   ]
  },
  {
   "cell_type": "code",
   "execution_count": null,
   "id": "159850c5950c2b2b",
   "metadata": {
    "ExecuteTime": {
     "end_time": "2023-10-19T00:11:22.583015Z",
     "start_time": "2023-10-19T00:11:14.369710Z"
    },
    "collapsed": false,
    "pycharm": {
     "is_executing": true
    }
   },
   "outputs": [],
   "source": [
    "# Code to generate Confusion Matrix\n",
    "# 5 MOST IMPORTANT FEATURES\n",
    "# Vehicle Speed, Engine RPM, Car Load, Total Acceleration, Pitch\n",
    "# WITH GridSearchCV take into consideration\n",
    "\n",
    "import seaborn as sns\n",
    "from sklearn.tree import DecisionTreeClassifier\n",
    "from sklearn.metrics import confusion_matrix\n",
    "import matplotlib.pyplot as plt\n",
    "\n",
    "\n",
    "# Train a Decision Tree Classifier with best params\n",
    "best_params = grid_search.best_params_\n",
    "clf = DecisionTreeClassifier(random_state=42, **best_params)\n",
    "clf.fit(x_train_five, y_train_five)\n",
    "\n",
    "# Predict clusters for the test data\n",
    "predictions = clf.predict(x_test_five)\n",
    "\n",
    "print(f\"Accuracy: {accuracy_score(y_test_five, predictions)}\")\n",
    "\n",
    "print(f\"Classification Report: {classification_report(y_test_five, predictions)}\")\n",
    "\n",
    "conf_matrix = confusion_matrix(y_test_five, predicted_clusters)\n",
    "\n",
    "plt.figure(figsize=(8, 6))\n",
    "sns.heatmap(conf_matrix, annot=True, fmt='d', cmap='Blues', xticklabels=['SHIFT'], yticklabels=['SHIFT'])\n",
    "plt.xlabel('Predicted SHIFT')\n",
    "plt.ylabel('True SHIFT')\n",
    "plt.title('Confusion Matrix')\n",
    "plt.show()"
   ]
  },
  {
   "cell_type": "code",
   "execution_count": null,
   "id": "f913197b16345a4f",
   "metadata": {
    "ExecuteTime": {
     "end_time": "2023-10-19T00:11:22.592054Z",
     "start_time": "2023-10-19T00:11:22.590110Z"
    },
    "collapsed": false,
    "pycharm": {
     "is_executing": true
    }
   },
   "outputs": [],
   "source": [
    "# Code to try to extract rules\n",
    "\n",
    "from sklearn.tree import _tree\n",
    "\n",
    "# Function to extract rules from decision tree\n",
    "def extract_rules(tree, feature_names):\n",
    "    tree_ = tree.tree_\n",
    "    feature_name = [\n",
    "        feature_names[i] if i != _tree.TREE_UNDEFINED else \"undefined!\"\n",
    "        for i in tree_.feature\n",
    "    ]\n",
    "\n",
    "    def recurse(node):\n",
    "        if tree_.feature[node] != _tree.TREE_UNDEFINED:\n",
    "            name = feature_name[node]\n",
    "            threshold = tree_.threshold[node]\n",
    "            print(f\"If {name} <= {threshold}:\")\n",
    "            recurse(tree_.children_left[node])\n",
    "            print(f\"Else (If {name} > {threshold}): \")\n",
    "            recurse(tree_.children_right[node])\n",
    "        else:\n",
    "            print(f\"Predict Class {tree_.value[node]} \\n\")\n",
    "\n",
    "    recurse(0)\n",
    "\n",
    "extract_rules(best_clf, feature_names=list(X.columns))"
   ]
  },
  {
   "cell_type": "code",
   "execution_count": null,
   "id": "f6c3164e755ac4b",
   "metadata": {
    "ExecuteTime": {
     "end_time": "2023-10-19T00:11:35.147120Z",
     "start_time": "2023-10-19T00:11:22.595616Z"
    },
    "collapsed": false,
    "pycharm": {
     "is_executing": true
    }
   },
   "outputs": [],
   "source": [
    "# I found this in the internet, kind don't understand if it was better to infer rules\n",
    "\n",
    "from sklearn.tree import DecisionTreeRegressor, export_text\n",
    "\n",
    "# Prepare the data data\n",
    "X = df[df.columns[:-1]]\n",
    "y = df.SHIFT\n",
    "\n",
    "# Fit the regressor, set max_depth = 3\n",
    "regr = DecisionTreeRegressor(max_depth=3, random_state=1234)\n",
    "model = regr.fit(X, y)\n",
    "\n",
    "# Print rules\n",
    "rules = export_text(regr, feature_names=list(X.columns))\n",
    "print(rules)\n",
    "\n",
    "from sklearn.tree import DecisionTreeClassifier\n",
    "\n",
    "X = df[df.columns[:-1]]  # Features\n",
    "y = df[['SHIFT']]  # Target variable as a DataFrame with column name 'SHIFT'\n",
    "\n",
    "# Initialize and train your Decision Tree model (DecisionTreeClassifier or DecisionTreeRegressor)\n",
    "decision_tree = DecisionTreeClassifier(max_depth=5, random_state=1234)\n",
    "decision_tree.fit(X, y)\n",
    "\n",
    "def get_rules(tree, feature_names):\n",
    "    tree_ = tree.tree_\n",
    "    feature_name = [\n",
    "        feature_names[i] if i != _tree.TREE_UNDEFINED else \"undefined!\"\n",
    "        for i in tree_.feature\n",
    "    ]\n",
    "    rules = []\n",
    "    \n",
    "    def recurse(node):\n",
    "        if tree_.feature[node] != _tree.TREE_UNDEFINED:\n",
    "            name = feature_name[node]\n",
    "            threshold = tree_.threshold[node]\n",
    "            left = recurse(tree_.children_left[node])\n",
    "            right = recurse(tree_.children_right[node])\n",
    "            rules.append(f\"({name} <= {threshold:.2f}): {left} | ({name} > {threshold:.2f}): {right}\")\n",
    "            return f\"if {name} <= {threshold:.2f} then {{ {left} }} else {{ {right} }}\"\n",
    "        else:\n",
    "            return f\"class: {tree_.value[node]}\"\n",
    "    \n",
    "    rules.append(recurse(0))\n",
    "    return rules\n",
    "\n",
    "# Get and print decision tree rules\n",
    "rules_decision_tree = get_rules(decision_tree, X.columns)\n",
    "for r in rules_decision_tree:\n",
    "    print(r)"
   ]
  },
  {
   "cell_type": "markdown",
   "id": "b908a26a",
   "metadata": {},
   "source": [
    "Extract rules with another method from internet"
   ]
  },
  {
   "cell_type": "code",
   "execution_count": null,
   "id": "dc7dac68",
   "metadata": {
    "pycharm": {
     "is_executing": true
    }
   },
   "outputs": [],
   "source": [
    "\n",
    "def get_rules(tree, feature_names, class_names):\n",
    "    tree_ = tree.tree_\n",
    "    feature_name = [\n",
    "        feature_names[i] if i != _tree.TREE_UNDEFINED else \"undefined!\"\n",
    "        for i in tree_.feature\n",
    "    ]\n",
    "\n",
    "    paths = []\n",
    "    path = []\n",
    "\n",
    "    def recurse(node, path, paths):\n",
    "        if tree_.feature[node] != _tree.TREE_UNDEFINED:\n",
    "            name = feature_name[node]\n",
    "            threshold = tree_.threshold[node]\n",
    "            p1, p2 = list(path), list(path)\n",
    "            p1 += [f\"({name} <= {np.round(threshold, 3)})\"]\n",
    "            recurse(tree_.children_left[node], p1, paths)\n",
    "            p2 += [f\"({name} > {np.round(threshold, 3)})\"]\n",
    "            recurse(tree_.children_right[node], p2, paths)\n",
    "        else:\n",
    "            path += [(tree_.value[node], tree_.n_node_samples[node])]\n",
    "            paths += [path]\n",
    "\n",
    "    recurse(0, path, paths)\n",
    "\n",
    "    # Sort by samples count\n",
    "    samples_count = [p[-1][1] for p in paths]\n",
    "    ii = list(np.argsort(samples_count))\n",
    "    paths = [paths[i] for i in reversed(ii)]\n",
    "\n",
    "    rules = []\n",
    "    for path in paths:\n",
    "        rule = \"if \"\n",
    "\n",
    "        for p in path[:-1]:\n",
    "            if rule != \"if \":\n",
    "                rule += \" and \"\n",
    "            rule += str(p)\n",
    "        rule += \" then \"\n",
    "\n",
    "        if class_names is None:\n",
    "            response = np.round(path[-1][0][0], 3)\n",
    "            class_str = f\"class: {response} ({int(response)} to 5)\"\n",
    "        else:\n",
    "            classes = path[-1][0][0]\n",
    "            class_idx = np.argmax(classes)\n",
    "            response = class_names[class_idx]\n",
    "            proba = np.round(100.0 * classes[class_idx] / np.sum(classes), 2)\n",
    "            class_str = f\"class: {response} (proba: {proba}%)\"\n",
    "\n",
    "        rule += f\"{class_str} | based on {path[-1][1]:,} samples\"\n",
    "        rules.append(rule)\n",
    "\n",
    "    return rules\n",
    "\n",
    "# Define class names for your case\n",
    "class_names = ['1', '2', '3', '4', '5']\n",
    "\n",
    "rules = get_rules(clf, clf.feature_names_in_, class_names)\n",
    "for r in rules:\n",
    "    print(r)\n",
    "\n",
    "\n"
   ]
  },
  {
   "cell_type": "markdown",
   "id": "1f8cfa1b",
   "metadata": {},
   "source": [
    "And the same but optimized, same classes together"
   ]
  },
  {
   "cell_type": "code",
   "execution_count": null,
   "id": "67c574fc",
   "metadata": {
    "pycharm": {
     "is_executing": true
    }
   },
   "outputs": [],
   "source": [
    "# Initialize the dictionary\n",
    "gears_pred = {\n",
    "    1: [],\n",
    "    2: [],\n",
    "    3: [],\n",
    "    4: [],\n",
    "    5: []\n",
    "}\n",
    "\n",
    "def get_rules(tree, feature_names, class_names):\n",
    "    tree_ = tree.tree_\n",
    "    feature_name = [\n",
    "        feature_names[i] if i != _tree.TREE_UNDEFINED else \"undefined!\"\n",
    "        for i in tree_.feature\n",
    "    ]\n",
    "\n",
    "    paths = []\n",
    "    path = []\n",
    "\n",
    "    def recurse(node, path, paths):\n",
    "        if tree_.feature[node] != _tree.TREE_UNDEFINED:\n",
    "            name = feature_name[node]\n",
    "            threshold = tree_.threshold[node]\n",
    "            p1, p2 = list(path), list(path)\n",
    "            p1 += [f\"({name} <= {np.round(threshold, 3)})\"]\n",
    "            recurse(tree_.children_left[node], p1, paths)\n",
    "            p2 += [f\"({name} > {np.round(threshold, 3)})\"]\n",
    "            recurse(tree_.children_right[node], p2, paths)\n",
    "        else:\n",
    "            path += [(tree_.value[node], tree_.n_node_samples[node])]\n",
    "            paths += [path]\n",
    "\n",
    "    recurse(0, path, paths)\n",
    "\n",
    "    # Sort by samples count\n",
    "    samples_count = [p[-1][1] for p in paths]\n",
    "    ii = list(np.argsort(samples_count))\n",
    "    paths = [paths[i] for i in reversed(ii)]\n",
    "\n",
    "    rules = []\n",
    "    for path in paths:\n",
    "        rule = \"if \"\n",
    "\n",
    "        for p in path[:-1]:\n",
    "            if rule != \"if \":\n",
    "                rule += \" and \"\n",
    "            rule += str(p)\n",
    "        rule += \" then \"\n",
    "\n",
    "        if class_names is None:\n",
    "            response = np.round(path[-1][0][0], 3)\n",
    "            class_str = f\"class: {response} ({int(response)} to 5)\"\n",
    "        else:\n",
    "            classes = path[-1][0][0]\n",
    "            class_idx = np.argmax(classes)\n",
    "            response = class_names[class_idx]\n",
    "            proba = np.round(100.0 * classes[class_idx] / np.sum(classes), 2)\n",
    "            class_str = f\"class: {response}\" #(proba: {proba}%)\"\n",
    "\n",
    "        rule += f\"{class_str} \" #| based on {path[-1][1]:,} samples\"\n",
    "        gears_pred[int(response)].append(rule)\n",
    "        rules.append(rule)\n",
    "\n",
    "    return rules\n",
    "\n",
    "# Define class names for your case\n",
    "class_names = ['1', '2', '3', '4', '5']\n",
    "\n",
    "rules = get_rules(clf, clf.feature_names_in_, class_names)\n",
    "# for r in rules:\n",
    "#     print(r)\n",
    "\n",
    "# Print the rules associated with each class\n",
    "for gear_num, rules in gears_pred.items():\n",
    "    print(f\"\\nClass {gear_num}:\")\n",
    "    for rule in rules:\n",
    "        print(f\" {rule}\")\n",
    "\n"
   ]
  }
 ],
 "metadata": {
  "kernelspec": {
   "display_name": "Python 3",
   "language": "python",
   "name": "python3"
  },
  "language_info": {
   "codemirror_mode": {
    "name": "ipython",
    "version": 3
   },
   "file_extension": ".py",
   "mimetype": "text/x-python",
   "name": "python",
   "nbconvert_exporter": "python",
   "pygments_lexer": "ipython3",
   "version": "3.10.12"
  }
 },
 "nbformat": 4,
 "nbformat_minor": 5
}