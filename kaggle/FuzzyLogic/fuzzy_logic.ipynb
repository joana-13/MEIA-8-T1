{
 "cells": [
  {
   "cell_type": "code",
   "execution_count": 20,
   "outputs": [
    {
     "data": {
      "text/plain": "             Time  Vehicle Speed  Engine Load  Total Acceleration  Engine RPM  \\\ncount 3228015.000    3228015.000  3228015.000         3228015.000 3228015.000   \nmean     1342.519         46.641       10.357               0.272    2039.619   \nstd       901.246         24.403        8.100               0.694     553.765   \nmin         7.677          4.773        2.000              -5.101     800.020   \n25%       585.950         28.186        4.122              -0.148    1674.200   \n50%      1238.500         42.264        8.054               0.223    1987.300   \n75%      1886.900         64.890       13.584               0.626    2292.400   \nmax      4287.900        115.150       69.655               4.523    5680.800   \n\n            Pitch  Lateral Acceleration  Passenger Count    Car Load  \\\ncount 3228015.000           3228015.000      3228015.000 3228015.000   \nmean        1.244                -0.021            0.658       4.639   \nstd         1.896                 0.521            0.859       2.165   \nmin       -10.549                -5.963            0.000       3.000   \n25%         0.604                -0.111            0.000       3.000   \n50%         1.307                -0.006            0.000       3.000   \n75%         1.970                 0.085            1.000       7.000   \nmax        12.277                 5.777            4.000       8.000   \n\n        AC Status  Window Opening  Radio Volume  Rain Intensity  Visibility  \\\ncount 3228015.000     3228015.000   3228015.000     3228015.000 3228015.000   \nmean        0.086           0.593         3.469           0.152       9.676   \nstd         0.372           1.309         2.105           0.532       0.678   \nmin         0.000           0.000         0.000           0.000       7.000   \n25%         0.000           0.000         2.000           0.000      10.000   \n50%         0.000           0.000         4.000           0.000      10.000   \n75%         0.000           0.000         5.000           0.000      10.000   \nmax         4.000           6.000         8.000           3.000      10.000   \n\n       Driver Wellbeing  Driver Rush       SHIFT  \ncount       3228015.000  3228015.000 3228015.000  \nmean              6.510        3.016       3.412  \nstd               1.058        1.083       1.256  \nmin               4.000        0.000       1.000  \n25%               6.000        3.000       2.000  \n50%               7.000        3.000       3.000  \n75%               7.000        3.000       5.000  \nmax               8.000        5.000       5.000  ",
      "text/html": "<div>\n<style scoped>\n    .dataframe tbody tr th:only-of-type {\n        vertical-align: middle;\n    }\n\n    .dataframe tbody tr th {\n        vertical-align: top;\n    }\n\n    .dataframe thead th {\n        text-align: right;\n    }\n</style>\n<table border=\"1\" class=\"dataframe\">\n  <thead>\n    <tr style=\"text-align: right;\">\n      <th></th>\n      <th>Time</th>\n      <th>Vehicle Speed</th>\n      <th>Engine Load</th>\n      <th>Total Acceleration</th>\n      <th>Engine RPM</th>\n      <th>Pitch</th>\n      <th>Lateral Acceleration</th>\n      <th>Passenger Count</th>\n      <th>Car Load</th>\n      <th>AC Status</th>\n      <th>Window Opening</th>\n      <th>Radio Volume</th>\n      <th>Rain Intensity</th>\n      <th>Visibility</th>\n      <th>Driver Wellbeing</th>\n      <th>Driver Rush</th>\n      <th>SHIFT</th>\n    </tr>\n  </thead>\n  <tbody>\n    <tr>\n      <th>count</th>\n      <td>3228015.000</td>\n      <td>3228015.000</td>\n      <td>3228015.000</td>\n      <td>3228015.000</td>\n      <td>3228015.000</td>\n      <td>3228015.000</td>\n      <td>3228015.000</td>\n      <td>3228015.000</td>\n      <td>3228015.000</td>\n      <td>3228015.000</td>\n      <td>3228015.000</td>\n      <td>3228015.000</td>\n      <td>3228015.000</td>\n      <td>3228015.000</td>\n      <td>3228015.000</td>\n      <td>3228015.000</td>\n      <td>3228015.000</td>\n    </tr>\n    <tr>\n      <th>mean</th>\n      <td>1342.519</td>\n      <td>46.641</td>\n      <td>10.357</td>\n      <td>0.272</td>\n      <td>2039.619</td>\n      <td>1.244</td>\n      <td>-0.021</td>\n      <td>0.658</td>\n      <td>4.639</td>\n      <td>0.086</td>\n      <td>0.593</td>\n      <td>3.469</td>\n      <td>0.152</td>\n      <td>9.676</td>\n      <td>6.510</td>\n      <td>3.016</td>\n      <td>3.412</td>\n    </tr>\n    <tr>\n      <th>std</th>\n      <td>901.246</td>\n      <td>24.403</td>\n      <td>8.100</td>\n      <td>0.694</td>\n      <td>553.765</td>\n      <td>1.896</td>\n      <td>0.521</td>\n      <td>0.859</td>\n      <td>2.165</td>\n      <td>0.372</td>\n      <td>1.309</td>\n      <td>2.105</td>\n      <td>0.532</td>\n      <td>0.678</td>\n      <td>1.058</td>\n      <td>1.083</td>\n      <td>1.256</td>\n    </tr>\n    <tr>\n      <th>min</th>\n      <td>7.677</td>\n      <td>4.773</td>\n      <td>2.000</td>\n      <td>-5.101</td>\n      <td>800.020</td>\n      <td>-10.549</td>\n      <td>-5.963</td>\n      <td>0.000</td>\n      <td>3.000</td>\n      <td>0.000</td>\n      <td>0.000</td>\n      <td>0.000</td>\n      <td>0.000</td>\n      <td>7.000</td>\n      <td>4.000</td>\n      <td>0.000</td>\n      <td>1.000</td>\n    </tr>\n    <tr>\n      <th>25%</th>\n      <td>585.950</td>\n      <td>28.186</td>\n      <td>4.122</td>\n      <td>-0.148</td>\n      <td>1674.200</td>\n      <td>0.604</td>\n      <td>-0.111</td>\n      <td>0.000</td>\n      <td>3.000</td>\n      <td>0.000</td>\n      <td>0.000</td>\n      <td>2.000</td>\n      <td>0.000</td>\n      <td>10.000</td>\n      <td>6.000</td>\n      <td>3.000</td>\n      <td>2.000</td>\n    </tr>\n    <tr>\n      <th>50%</th>\n      <td>1238.500</td>\n      <td>42.264</td>\n      <td>8.054</td>\n      <td>0.223</td>\n      <td>1987.300</td>\n      <td>1.307</td>\n      <td>-0.006</td>\n      <td>0.000</td>\n      <td>3.000</td>\n      <td>0.000</td>\n      <td>0.000</td>\n      <td>4.000</td>\n      <td>0.000</td>\n      <td>10.000</td>\n      <td>7.000</td>\n      <td>3.000</td>\n      <td>3.000</td>\n    </tr>\n    <tr>\n      <th>75%</th>\n      <td>1886.900</td>\n      <td>64.890</td>\n      <td>13.584</td>\n      <td>0.626</td>\n      <td>2292.400</td>\n      <td>1.970</td>\n      <td>0.085</td>\n      <td>1.000</td>\n      <td>7.000</td>\n      <td>0.000</td>\n      <td>0.000</td>\n      <td>5.000</td>\n      <td>0.000</td>\n      <td>10.000</td>\n      <td>7.000</td>\n      <td>3.000</td>\n      <td>5.000</td>\n    </tr>\n    <tr>\n      <th>max</th>\n      <td>4287.900</td>\n      <td>115.150</td>\n      <td>69.655</td>\n      <td>4.523</td>\n      <td>5680.800</td>\n      <td>12.277</td>\n      <td>5.777</td>\n      <td>4.000</td>\n      <td>8.000</td>\n      <td>4.000</td>\n      <td>6.000</td>\n      <td>8.000</td>\n      <td>3.000</td>\n      <td>10.000</td>\n      <td>8.000</td>\n      <td>5.000</td>\n      <td>5.000</td>\n    </tr>\n  </tbody>\n</table>\n</div>"
     },
     "execution_count": 20,
     "metadata": {},
     "output_type": "execute_result"
    }
   ],
   "source": [
    "import pandas as pd # data processing, CSV file I/O (e.g. pd.read_csv)\n",
    "\n",
    "df=pd.DataFrame()\n",
    "for no in range(10,38):\n",
    "    temp=pd.read_csv(\"../Processed Data/fileID\"+str(no)+\"_ProcessedTripData.csv\",header= None)\n",
    "    #print(temp)  \n",
    "    df=pd.concat([df,temp])\n",
    "\n",
    "\n",
    "df.columns=['Time','Vehicle Speed','SHIFT','Engine Load','Total Acceleration','Engine RPM','Pitch','Lateral Acceleration','Passenger Count','Car Load','AC Status','Window Opening','Radio Volume','Rain Intensity','Visibility','Driver Wellbeing','Driver Rush']\n",
    "\n",
    "# Multiply the 'Vehicle Speed' by 3.6 to get km/h\n",
    "df['Vehicle Speed'] = df['Vehicle Speed'] * 3.6\n",
    "\n",
    "newdf = df[df.SHIFT != 0]\n",
    "newdf = newdf.reset_index(drop=True)\n",
    "\n",
    "# Column SHIFT moved to the last position\n",
    "column_to_move = 'SHIFT'\n",
    "columns = [col for col in newdf.columns if col != column_to_move]\n",
    "newdf = newdf[columns + [column_to_move]]\n",
    "\n",
    "df = newdf\n",
    "\n",
    "df.dropna(inplace=True)\n",
    "\n",
    "# Set the display format to show real numbers, not scientific notation\n",
    "pd.set_option('display.float_format', lambda x: '%.3f' % x)\n",
    "\n",
    "df.describe()"
   ],
   "metadata": {
    "collapsed": false,
    "ExecuteTime": {
     "end_time": "2023-10-29T16:59:24.756630100Z",
     "start_time": "2023-10-29T16:59:16.666260300Z"
    }
   },
   "id": "80954140f07e6ac4"
  },
  {
   "cell_type": "code",
   "execution_count": 21,
   "outputs": [
    {
     "data": {
      "text/plain": "    Time  Vehicle Speed  Engine Load  Total Acceleration  Engine RPM  Pitch  \\\n0 60.569          9.987        7.843              -0.173    1306.500 -1.625   \n1 60.579          9.965        7.826              -0.195    1308.800 -1.642   \n2 60.589          9.940        7.809              -0.214    1311.100 -1.659   \n3 60.599          9.910        7.791              -0.231    1313.600 -1.676   \n4 60.608          9.893        7.774              -0.245    1316.100 -1.693   \n\n   Lateral Acceleration  Passenger Count  Car Load  AC Status  Window Opening  \\\n0                 1.599                0         3          0               2   \n1                 1.599                0         3          0               2   \n2                 1.595                0         3          0               2   \n3                 1.568                0         3          0               2   \n4                 1.565                0         3          0               2   \n\n   Radio Volume  Rain Intensity  Visibility  Driver Wellbeing  Driver Rush  \\\n0             6               0           9                 5            3   \n1             6               0           9                 5            3   \n2             6               0           9                 5            3   \n3             6               0           9                 5            3   \n4             6               0           9                 5            3   \n\n   SHIFT  \n0      1  \n1      1  \n2      1  \n3      1  \n4      1  ",
      "text/html": "<div>\n<style scoped>\n    .dataframe tbody tr th:only-of-type {\n        vertical-align: middle;\n    }\n\n    .dataframe tbody tr th {\n        vertical-align: top;\n    }\n\n    .dataframe thead th {\n        text-align: right;\n    }\n</style>\n<table border=\"1\" class=\"dataframe\">\n  <thead>\n    <tr style=\"text-align: right;\">\n      <th></th>\n      <th>Time</th>\n      <th>Vehicle Speed</th>\n      <th>Engine Load</th>\n      <th>Total Acceleration</th>\n      <th>Engine RPM</th>\n      <th>Pitch</th>\n      <th>Lateral Acceleration</th>\n      <th>Passenger Count</th>\n      <th>Car Load</th>\n      <th>AC Status</th>\n      <th>Window Opening</th>\n      <th>Radio Volume</th>\n      <th>Rain Intensity</th>\n      <th>Visibility</th>\n      <th>Driver Wellbeing</th>\n      <th>Driver Rush</th>\n      <th>SHIFT</th>\n    </tr>\n  </thead>\n  <tbody>\n    <tr>\n      <th>0</th>\n      <td>60.569</td>\n      <td>9.987</td>\n      <td>7.843</td>\n      <td>-0.173</td>\n      <td>1306.500</td>\n      <td>-1.625</td>\n      <td>1.599</td>\n      <td>0</td>\n      <td>3</td>\n      <td>0</td>\n      <td>2</td>\n      <td>6</td>\n      <td>0</td>\n      <td>9</td>\n      <td>5</td>\n      <td>3</td>\n      <td>1</td>\n    </tr>\n    <tr>\n      <th>1</th>\n      <td>60.579</td>\n      <td>9.965</td>\n      <td>7.826</td>\n      <td>-0.195</td>\n      <td>1308.800</td>\n      <td>-1.642</td>\n      <td>1.599</td>\n      <td>0</td>\n      <td>3</td>\n      <td>0</td>\n      <td>2</td>\n      <td>6</td>\n      <td>0</td>\n      <td>9</td>\n      <td>5</td>\n      <td>3</td>\n      <td>1</td>\n    </tr>\n    <tr>\n      <th>2</th>\n      <td>60.589</td>\n      <td>9.940</td>\n      <td>7.809</td>\n      <td>-0.214</td>\n      <td>1311.100</td>\n      <td>-1.659</td>\n      <td>1.595</td>\n      <td>0</td>\n      <td>3</td>\n      <td>0</td>\n      <td>2</td>\n      <td>6</td>\n      <td>0</td>\n      <td>9</td>\n      <td>5</td>\n      <td>3</td>\n      <td>1</td>\n    </tr>\n    <tr>\n      <th>3</th>\n      <td>60.599</td>\n      <td>9.910</td>\n      <td>7.791</td>\n      <td>-0.231</td>\n      <td>1313.600</td>\n      <td>-1.676</td>\n      <td>1.568</td>\n      <td>0</td>\n      <td>3</td>\n      <td>0</td>\n      <td>2</td>\n      <td>6</td>\n      <td>0</td>\n      <td>9</td>\n      <td>5</td>\n      <td>3</td>\n      <td>1</td>\n    </tr>\n    <tr>\n      <th>4</th>\n      <td>60.608</td>\n      <td>9.893</td>\n      <td>7.774</td>\n      <td>-0.245</td>\n      <td>1316.100</td>\n      <td>-1.693</td>\n      <td>1.565</td>\n      <td>0</td>\n      <td>3</td>\n      <td>0</td>\n      <td>2</td>\n      <td>6</td>\n      <td>0</td>\n      <td>9</td>\n      <td>5</td>\n      <td>3</td>\n      <td>1</td>\n    </tr>\n  </tbody>\n</table>\n</div>"
     },
     "execution_count": 21,
     "metadata": {},
     "output_type": "execute_result"
    }
   ],
   "source": [
    "df.head()"
   ],
   "metadata": {
    "collapsed": false,
    "ExecuteTime": {
     "end_time": "2023-10-29T17:00:09.502696400Z",
     "start_time": "2023-10-29T17:00:09.469643800Z"
    }
   },
   "id": "96b53210c2937fc5"
  },
  {
   "cell_type": "code",
   "execution_count": null,
   "outputs": [],
   "source": [],
   "metadata": {
    "collapsed": false
   },
   "id": "e930a616397ecd23"
  }
 ],
 "metadata": {
  "kernelspec": {
   "display_name": "Python 3 (ipykernel)",
   "language": "python",
   "name": "python3"
  },
  "language_info": {
   "codemirror_mode": {
    "name": "ipython",
    "version": 3
   },
   "file_extension": ".py",
   "mimetype": "text/x-python",
   "name": "python",
   "nbconvert_exporter": "python",
   "pygments_lexer": "ipython3",
   "version": "3.11.5"
  }
 },
 "nbformat": 4,
 "nbformat_minor": 5
}
